{
 "cells": [
  {
   "cell_type": "markdown",
   "metadata": {},
   "source": [
    "# 5D Example \n",
    "\n",
    "In this notebook we will go through an example using the **foxi** code features to evaluate the expected utility of a mock scientific survey. This notebook will assume the reader is familiar with all of the concepts and is intended as a practical demonstration of the code. For more details about the utility functions themselves, as well as the inner workings of **foxi**, one can read the paper it was first developed in here: [https://arxiv.org/abs/1803.09491]. \n",
    "\n",
    "To begin with, we will import the module `sys` to append our path towards **foxi**. "
   ]
  },
  {
   "cell_type": "code",
   "execution_count": 1,
   "metadata": {},
   "outputs": [],
   "source": [
    "import sys\n",
    "sys.path.append('/Users/Rob/work/foxi_train/foxisource/') # Give your directory to foxisource here.\n",
    "from foxi import foxi\n",
    "\n",
    "# These imports aren't stricly necessary to run foxi but they will be useful in our examples.\n",
    "import numpy as np\n",
    "from scipy.stats import multivariate_normal"
   ]
  },
  {
   "cell_type": "markdown",
   "metadata": {},
   "source": [
    "### Setup of the current experiment\n",
    "\n",
    "Consider a scientific experiment over a 5D parameter space. Fitting a statistical model to the input, let us imagine that the posterior distribution is given by a multivariate Gaussian distribution with non-trivial covariances. Let us quickly generate $10^3$ samples from this 5D posterior. Feel free to change these settings to check the final results."
   ]
  },
  {
   "cell_type": "code",
   "execution_count": 2,
   "metadata": {},
   "outputs": [],
   "source": [
    "# Choose a state of low information to start with.\n",
    "mock_posterior_best_fit = np.asarray([ 1.0, 2.0, 4.0, 0.5, 2.5]) \n",
    "mock_posterior_fisher_matrix = np.asarray([[ 2.0, 0.0, 0.0, 0.0, 0.0], \n",
    "                                           [ 0.0, 3.0, 0.0, 0.0, 0.0], # This obviously assumes that the  \n",
    "                                           [ 0.0, 0.0, 5.0, 0.0, 0.0], # covariance matrix is constant \n",
    "                                           [ 0.0, 0.0, 0.0, 4.0, 0.0], # with respect to the parameters.     \n",
    "                                           [ 0.0, 0.0, 0.0, 0.0, 2.0]])  \n",
    " \n",
    "# Quick inversion to generate the samples and mimic some weights too.        \n",
    "mock_posterior_covariance_matrix = np.linalg.inv(mock_posterior_fisher_matrix)\n",
    "mock_posterior_samples = np.random.multivariate_normal(mock_posterior_best_fit,mock_posterior_covariance_matrix,10**4)\n",
    "mock_posterior_sample_weights = multivariate_normal.pdf(mock_posterior_samples,mean=mock_posterior_best_fit,cov=mock_posterior_covariance_matrix)\n",
    "mock_posterior_samples_output = np.insert(mock_posterior_samples,0,mock_posterior_sample_weights,axis=1)\n",
    "\n",
    "# Let's output this data to a file in the '/foxichains' directory which mimics a real MCMC output.\n",
    "np.savetxt('/Users/Rob/work/foxi_train/foxichains/mock_posterior_samples.txt', mock_posterior_samples_output, delimiter='\\t')"
   ]
  },
  {
   "cell_type": "markdown",
   "metadata": {},
   "source": [
    "### Setup of the model priors\n",
    "\n",
    "We should now generate a series of toy model priors which can span the parameter space. These should represent a true collection of theoretical models but, in this case for simplicity and to capture the essential effects of the whole model space, we will choose `Nm` models that all have uniform hypersphere priors all with radius `Rm`, and positions drawn from a Gaussian hyperprior centred on `mock_posterior_best_fit`. Let us now quickly generate $100$ samples for each of these models and save them to files so that **foxi** can read them in. \n"
   ]
  },
  {
   "cell_type": "code",
   "execution_count": 3,
   "metadata": {},
   "outputs": [],
   "source": [
    "# Feel free to vary these (though consider the number of model pairs to compare grows like Nm*(Nm-1)/2).\n",
    "Nm = 10  \n",
    "Rm = 0.1\n",
    "    \n",
    "hyperprior_covariance_matrix = np.asarray([[ 0.05, 0.01, 0.01, 0.00, 0.00], \n",
    "                                           [ 0.01, 0.05, 0.01, 0.00, 0.00], # Different values here correspond to   \n",
    "                                           [ 0.01, 0.01, 0.05, 0.00, 0.00], # different model space alignments. \n",
    "                                           [ 0.00, 0.00, 0.00, 0.05, 0.00],      \n",
    "                                           [ 0.00, 0.00, 0.00, 0.00, 0.05]])  \n",
    "\n",
    "# Generate the positions.\n",
    "mock_prior_positions = np.random.multivariate_normal(mock_posterior_best_fit,hyperprior_covariance_matrix,Nm)\n",
    "\n",
    "# Generate the 5D hypersphere samples and output to text files in the '/foxipriors' directory.\n",
    "for im in range(0,Nm):\n",
    "    angle1 = np.random.uniform(0,np.pi,size=10**2)\n",
    "    angle2 = np.random.uniform(0,np.pi,size=10**2)\n",
    "    angle3 = np.random.uniform(0,np.pi,size=10**2)\n",
    "    angle4 = np.random.uniform(0,2.0*np.pi,size=10**2)\n",
    "    parameter1 = Rm*np.cos(angle1) + mock_prior_positions[im][0]\n",
    "    parameter2 = Rm*np.sin(angle1)*np.cos(angle2) + mock_prior_positions[im][1]\n",
    "    parameter3 = Rm*np.sin(angle1)*np.sin(angle2)*np.cos(angle3) + mock_prior_positions[im][2]\n",
    "    parameter4 = Rm*np.sin(angle1)*np.sin(angle2)*np.sin(angle3)*np.cos(angle4) + mock_prior_positions[im][3]\n",
    "    parameter5 = Rm*np.sin(angle1)*np.sin(angle2)*np.sin(angle3)*np.sin(angle4) + mock_prior_positions[im][4]\n",
    "    mock_prior_samples = np.asarray([parameter1,parameter2,parameter3,parameter4,parameter5]).T\n",
    "    np.savetxt('/Users/Rob/work/foxi_train/foxipriors/mock_prior' + str(im+1) + '_samples.txt', mock_prior_samples, delimiter='\\t')    "
   ]
  },
  {
   "cell_type": "markdown",
   "metadata": {},
   "source": [
    "### Setup of the forecast Fisher matrix\n",
    "\n",
    "Let us assume that the future likelihood will be a multivariate Gaussian over the parameters as well. The code can of course accomodate any specified fiduical point-dependent matrix, but it will be more instructive to simplify things in this way. In this instance, let us also model how the Fisher matrix varies with respect to the fiducial points with a polynomial. "
   ]
  },
  {
   "cell_type": "code",
   "execution_count": 4,
   "metadata": {},
   "outputs": [],
   "source": [
    "# Specify the polynomial baheviour of the forecast Fisher matrix with respect to the fiducial points.\n",
    "def fisher_matrix(fiducial_point):\n",
    "    return np.asarray([[2.0+abs(fiducial_point[0])**2.0, 0.0,0.0,0.0,0.0],\n",
    "                       [0.0,10.0+abs(fiducial_point[1])**2.0,0.0,0.0,0.0],\n",
    "                       [0.0,0.0,5.0+abs(fiducial_point[2])**2.0, 0.0,0.0],\n",
    "                       [0.0,0.0,0.0,10.0+abs(fiducial_point[3])**2.0,0.0],\n",
    "                       [0.0,0.0,0.0,0.0,10.0+abs(fiducial_point[4])**2.0]]) "
   ]
  },
  {
   "cell_type": "markdown",
   "metadata": {},
   "source": [
    "### Running the main foxi algorithm\n",
    "\n",
    "We are now ready to run **foxi** with our samples and forecast Fisher matrix. The first thing to do is to run a new instance of the `foxi` class like so"
   ]
  },
  {
   "cell_type": "code",
   "execution_count": 5,
   "metadata": {},
   "outputs": [],
   "source": [
    "foxi_instance = foxi('/Users/Rob/work/foxi_train') # Give your directory to foxi here."
   ]
  },
  {
   "cell_type": "markdown",
   "metadata": {},
   "source": [
    "The next step is to specify where our posterior samples of the current data are, how many samples to read in, what weights they carry and identify if there are any transformations to be done on each column (the latter will be no in this case). "
   ]
  },
  {
   "cell_type": "code",
   "execution_count": 6,
   "metadata": {},
   "outputs": [],
   "source": [
    "chains_filename = 'mock_posterior_samples.txt'\n",
    "\n",
    "# Note that the column numbers start from 0...\n",
    "parameter_column_numbers = [1,2,3,4,5]\n",
    "weights_column_number = 0\n",
    "\n",
    "# Simply set this to the number of samples generated - this can be useful to get results out as a sanity check.\n",
    "number_of_samples_to_read_in = 10**3\n",
    "\n",
    "foxi_instance.set_chains(chains_filename,\n",
    "                         parameter_column_numbers,\n",
    "                         number_of_samples_to_read_in,\n",
    "                         weights_column=weights_column_number, # All points are given weight 1 if this is ignored.\n",
    "                         column_types=None) # No transformations needed here. \n",
    "                                            # One could have ['flat','log10','log'] specified for each column."
   ]
  },
  {
   "cell_type": "markdown",
   "metadata": {},
   "source": [
    "Now that the posterior chains have been set, we can do the same for our list of prior samples."
   ]
  },
  {
   "cell_type": "code",
   "execution_count": 7,
   "metadata": {},
   "outputs": [
    {
     "name": "stdout",
     "output_type": "stream",
     "text": [
      "Using the statsmodels module: http://www.statsmodels.org/stable/index.html\n",
      "The Kernel Density Bandwidth for each model listed in each dimension:\n",
      "\n",
      "Model 0: [0.04566239 0.03179643 0.02011254 0.01600546 0.01619932]\n",
      "Model 1: [0.04596534 0.03065768 0.02515024 0.01160941 0.01061373]\n",
      "Model 2: [0.04550912 0.03216552 0.02140453 0.0141551  0.01536319]\n",
      "Model 3: [0.04596195 0.03233577 0.02089739 0.01300154 0.01555955]\n",
      "Model 4: [0.045001   0.03197648 0.02304267 0.01461471 0.0152116 ]\n",
      "Model 5: [0.04872362 0.026837   0.02159062 0.01423327 0.01650244]\n",
      "Model 6: [0.04307958 0.03058282 0.02465256 0.0173998  0.01696173]\n",
      "Model 7: [0.0444537  0.03241033 0.02123311 0.01631441 0.01689264]\n",
      "Model 8: [0.043118   0.03322917 0.02307744 0.01541999 0.01730815]\n",
      "Model 9: [0.04409695 0.02867836 0.02589999 0.01522005 0.01716645]\n"
     ]
    }
   ],
   "source": [
    "# List the model file names to compute the expected utilities for.\n",
    "model_name_list = ['mock_prior' + str(im+1) + '_samples.txt' for im in range(0,Nm)]\n",
    "\n",
    "# List the column numbers to use for each file of prior samples.\n",
    "prior_column_numbers = [[0,1,2,3,4] for im in range(0,Nm)]\n",
    "\n",
    "# Once again, simply set this to the number of samples we made earlier for each prior.\n",
    "number_of_prior_points_to_read_in = 10**2\n",
    "\n",
    "foxi_instance.set_model_name_list(model_name_list,\n",
    "                                  prior_column_numbers,\n",
    "                                  number_of_prior_points_to_read_in,\n",
    "                                  prior_column_types=None) # Once again, no transformations needed here. "
   ]
  },
  {
   "cell_type": "markdown",
   "metadata": {},
   "source": [
    "Notice that the output here is from a quick KDE of each set of prior samples. How these are used depends on the specific numerical situation, which is once again covered in more detail in [https://arxiv.org/abs/1803.09491]. Our final step before running **foxi** is to give it a python function which returns the forecast Fisher matrix at each fiducial point (i.e. evaluated at each point of the current data chains). We do this like so"
   ]
  },
  {
   "cell_type": "code",
   "execution_count": 8,
   "metadata": {},
   "outputs": [],
   "source": [
    "foxi_instance.set_fisher_matrix(fisher_matrix)"
   ]
  },
  {
   "cell_type": "markdown",
   "metadata": {},
   "source": [
    "All of the necessary settings have now been applied for a full run of the **foxi** code. Depending on how many points were introduced at the level of the priors and chains, as well as the length of time it takes to evaluate the forecast Fisher matrix at each fiducial point, we may wish to continue on a compute cluster. For this simple example we have chosen, it should be enough to simply run locally on a laptop in less than 10 minutes. Our main run command is the following"
   ]
  },
  {
   "cell_type": "code",
   "execution_count": 9,
   "metadata": {},
   "outputs": [
    {
     "name": "stdout",
     "output_type": "stream",
     "text": [
      "                                          \n",
      ">>>>>>>>>>>                               \n",
      ">>>       >>                              \n",
      ">>                                        \n",
      ">>                                  >>    \n",
      ">>>>>>>>>    >>>>>>>    >>>    >>>        \n",
      ">>          >>     >>     >>  >>    >>    \n",
      ">>         >>       >>     >>>>     >>    \n",
      ">>         >>       >>    >>>>      >>    \n",
      ">>          >>     >>    >>  >>     >>    \n",
      ">>           >>>>>>>   >>>    >>>   >>>   \n",
      "                                          \n",
      ">>>>>>>>>>>>>>>>>>>>>>>>>>>>>>>>>>>>>>>>>>\n",
      "       Author: Robert J. Hardwick         \n",
      "      DISTRIBUTED UNDER MIT LICENSE       \n",
      ">>>>>>>>>>>>>>>>>>>>>>>>>>>>>>>>>>>>>>>>>>\n",
      "                                          \n",
      "    NOW WORKING WITH FISHER FORECASTS     \n",
      "                                          \n",
      ">>>>>>>>>>>>>>>>>>>>>>>>>>>>>>>>>>>>>>>>>>\n"
     ]
    },
    {
     "name": "stderr",
     "output_type": "stream",
     "text": [
      "/Users/Rob/work/foxi_train/foxisource/foxi.py:852: RuntimeWarning: divide by zero encountered in log\n",
      "  return [abslnB,decisivity,DKL,np.log(E),valid_ML]\n"
     ]
    },
    {
     "name": "stdout",
     "output_type": "stream",
     "text": [
      "\n",
      "Number of maxed-out evidences for each model:\n",
      "\n",
      "Model 0: 0\n",
      "Model 1: 0\n",
      "Model 2: 0\n",
      "Model 3: 0\n",
      "Model 4: 0\n",
      "Model 5: 0\n",
      "Model 6: 0\n",
      "Model 7: 0\n",
      "Model 8: 0\n",
      "Model 9: 0\n"
     ]
    }
   ],
   "source": [
    "mix_models = True # Set this to 'True' so that the expected utilities for all possible model pairs are calculated.\n",
    "                  # The default is 'False' which calculates the utilities all with respect to the reference model\n",
    "                  # here the 0-element in 'model_name_list'.\n",
    "        \n",
    "foxi_instance.run_foxifish(mix_models=mix_models)"
   ]
  },
  {
   "cell_type": "markdown",
   "metadata": {},
   "source": [
    "Don't be too alarmed by a few error messages about dividing by zero: these occur infrequently due to excessively low densities appearing in the numerical procedure but are automatically discarded as points from the main result. The algorithm should terminate with a `Number of maxed-out evidences for each model:` message. This message refers to the number of times when the model was found to be ruled out at the level of its maximum likelihood. \n",
    "\n",
    "### Post-processing and other foxi features\n",
    "\n",
    "This last step was the longest running, from now onwards the post-processing of the results from **foxi** will always be quick enough to run locally on a laptop. The next step is to use `rerun_foxi` to analyse the output that `run_foxifish` dumped into the `/foxioutput` directory."
   ]
  },
  {
   "cell_type": "code",
   "execution_count": 10,
   "metadata": {
    "scrolled": true
   },
   "outputs": [
    {
     "name": "stdout",
     "output_type": "stream",
     "text": [
      "                                          \n",
      ">>>>>>>>>>>                               \n",
      ">>>       >>                              \n",
      ">>                                        \n",
      ">>                                  >>    \n",
      ">>>>>>>>>    >>>>>>>    >>>    >>>        \n",
      ">>          >>     >>     >>  >>    >>    \n",
      ">>         >>       >>     >>>>     >>    \n",
      ">>         >>       >>    >>>>      >>    \n",
      ">>          >>     >>    >>  >>     >>    \n",
      ">>           >>>>>>>   >>>    >>>   >>>   \n",
      "                                          \n",
      ">>>>>>>>>>>>>>>>>>>>>>>>>>>>>>>>>>>>>>>>>>\n",
      "       Author: Robert J. Hardwick         \n",
      "      DISTRIBUTED UNDER MIT LICENSE       \n",
      ">>>>>>>>>>>>>>>>>>>>>>>>>>>>>>>>>>>>>>>>>>\n",
      "                                          \n",
      "Just read in a `mix_models' foxiplot data file with data dimension 5 and the number of model pairs is 55\n"
     ]
    }
   ],
   "source": [
    "foxiplot_file_name = 'foxiplots_data_mix_models.txt' # This is the generic name that 'run_foxifish' will set, change\n",
    "                                                     # this to whatever you like as long as the file is in '/foxioutput'.\n",
    "                                                     # If 'mix_models = False' then remove the 'mix_models' tag.\n",
    "\n",
    "# Set this to the number of samples generated - useful to vary to check convergence though we will make plots later.\n",
    "number_of_foxiplot_samples_to_read_in = 10**3 \n",
    "\n",
    "# We must set this feature to 'flat' in each column to perform no post-processing transformation that reweights the chains.\n",
    "# This can be a little redundant as it makes more numerical sense to simply generate new chains. \n",
    "post_chains_column_types = ['flat','flat','flat','flat','flat']\n",
    "\n",
    "# Set this to 'True' for the output to include fully-formatted LaTeX tables!\n",
    "TeX_output = True\n",
    "\n",
    "# For the truly lazy - you can set the TeX name for each model in the table output too.\n",
    "model_TeX_names = [r'${\\cal M}_' + str(i) + r'$' for i in range(0,Nm)]\n",
    "\n",
    "foxi_instance.rerun_foxi(foxiplot_file_name,number_of_foxiplot_samples_to_read_in,post_chains_column_types,model_name_TeX_input=model_TeX_names,TeX_output=TeX_output)"
   ]
  },
  {
   "cell_type": "markdown",
   "metadata": {},
   "source": [
    "Once again, don't be too alarmed by a few value error messages. If there are any error messages related to converting strings to floats, this is likely to do with a delimiter problem in the text files that were read in. Tab delimited data should work fine (or at least give a number of spaces). Note also that the number of model pairs quoted here is actually the number of unique pairs + the auto-pairs (i.e. Model_i - Model_j as well as Model_i - Model_i) so this number is an additional `+N_m` larger than the number of unique pairs. A summary of the main results can be read from this file"
   ]
  },
  {
   "cell_type": "code",
   "execution_count": 12,
   "metadata": {
    "scrolled": false
   },
   "outputs": [
    {
     "name": "stdout",
     "output_type": "stream",
     "text": [
      " [<|lnB|>_1, <|lnB|>_2, ...] = [0.         7.38302587 4.52844571 2.0603724  2.91198278 2.59199941\n",
      " 3.67960251 2.69780656 5.49800782 6.55043642 0.         9.5346329\n",
      " 7.32374089 8.05028358 5.46987144 8.17957502 5.88460317 6.62714132\n",
      " 5.81102586 0.         3.96108682 3.39547734 5.15724838 3.39273375\n",
      " 5.17566266 5.53848274 6.71593697 0.         1.17229507 3.19839811\n",
      " 4.06674014 3.41079171 6.21811298 6.99594428 0.         3.99560102\n",
      " 4.4604711  4.05121241 6.73799165 7.33536341 0.         4.24088988\n",
      " 0.89183231 4.18547322 4.48845748 0.         4.60343139 3.81306772\n",
      " 6.24725958 0.         4.56970069 4.32238617 0.         3.18938763\n",
      " 0.        ]\n",
      " [DECI_1, DECI_2, ...] = [0.    0.54  0.36  0.068 0.169 0.117 0.283 0.118 0.418 0.507 0.    0.645\n",
      " 0.522 0.57  0.412 0.61  0.443 0.525 0.469 0.    0.275 0.235 0.429 0.23\n",
      " 0.424 0.411 0.511 0.    0.008 0.198 0.303 0.231 0.469 0.541 0.    0.291\n",
      " 0.351 0.297 0.497 0.556 0.    0.336 0.004 0.306 0.335 0.    0.376 0.279\n",
      " 0.512 0.    0.356 0.325 0.    0.21  0.   ]\n",
      "<DKL> = 3.85075612118\n",
      " [<|lnB|_ML>_1, <|lnB|_ML>_2, ...] = [0.         4.60968254 3.41959854 1.3468899  2.08576213 1.63075661\n",
      " 2.57529114 1.84157848 3.92385177 4.88070618 0.         6.83312954\n",
      " 4.41578174 5.28218246 2.96041201 5.7975237  3.3521693  4.58604758\n",
      " 4.01378005 0.         2.85231772 2.34811379 3.49042637 2.68045404\n",
      " 3.60923375 3.70086762 4.68114985 0.         0.73046402 1.97398183\n",
      " 2.97102035 2.29414692 4.40501201 5.06053865 0.         2.64473764\n",
      " 3.32619959 2.77669592 4.90022353 5.25157816 0.         2.98041503\n",
      " 0.61684519 2.68958046 2.83979816 0.         3.52981018 2.18515336\n",
      " 4.98428317 0.         2.97004547 2.51258477 0.         2.5446298\n",
      " 0.        ]\n",
      " [r_ML|_1, r_ML|_2, ...] = [0.771 0.638 0.678 0.714 0.691 0.683 0.727 0.669 0.7   0.633 0.753 0.602\n",
      " 0.629 0.611 0.643 0.655 0.626 0.672 0.644 0.786 0.674 0.69  0.643 0.729\n",
      " 0.637 0.717 0.651 0.749 0.717 0.659 0.699 0.643 0.673 0.614 0.749 0.642\n",
      " 0.69  0.627 0.663 0.605 0.718 0.684 0.691 0.692 0.649 0.825 0.67  0.768\n",
      " 0.678 0.709 0.68  0.656 0.818 0.719 0.76 ]\n",
      " [< (|lnB|_1 - <|lnB|>_1)^2 >, < (|lnB|_2 - <|lnB|>_2)^2 >, ...] = [ 0.         44.66817947 13.4653838   4.07958761  7.5680694   4.01654792\n",
      "  9.13880597  4.07735465 23.78804522 29.05133597  0.         71.71029845\n",
      " 48.63866189 59.22884903 25.65679072 46.60053303 29.36888943 28.51915314\n",
      " 23.31807622  0.         10.83394276  8.50354388 16.79248388  8.13163028\n",
      " 17.06381909 24.73192156 33.55061311  0.          1.00491461  6.95939945\n",
      " 11.08044277  7.71272673 30.74136865 35.64708289  0.         11.46455382\n",
      " 12.7895929  11.73487222 34.93294625 39.53470173  0.          9.35697556\n",
      "  0.59676389 13.18061869 14.61454602  0.         12.00204157 10.38858715\n",
      " 23.13148694  0.         14.46247425 14.55174517  0.          6.21817622\n",
      "  0.        ]\n",
      " [< (|lnB|_1 - <|lnB|>_1_ML)^2 >_ML, < (|lnB|_2 - <|lnB|>_2_ML)^2 >_ML, ...] = [ 0.         10.06910061  5.15770001  0.95756378  2.57118968  1.23794206\n",
      "  3.16264813  1.57220919  8.23804054 11.74014069  0.         21.96047306\n",
      "  9.29883169 14.29120718  4.13049874 14.30587224  4.98938297  9.05931836\n",
      "  7.18572856  0.          3.62638072  2.54817642  4.49561245  3.64777329\n",
      "  4.89425738  6.44563249  8.5372402   0.          0.27396942  1.85315973\n",
      "  4.16096878  2.38202817 10.27260547 12.20471133  0.          3.49587011\n",
      "  5.36532525  3.81739934 12.17288664 13.20558065  0.          3.66210855\n",
      "  0.27352609  3.32512938  4.04249161  0.          5.31082983  2.31670305\n",
      " 11.54620564  0.          3.96547768  3.29480336  0.          3.50033799\n",
      "  0.        ]\n",
      " [DECI_1|_ML, DECI_2|_ML, ...] = [0.         0.38674033 0.22049689 0.         0.06796117 0.\n",
      " 0.12454212 0.0060423  0.31       0.40599455 0.         0.59045226\n",
      " 0.36927224 0.47300771 0.16246499 0.53043478 0.21657754 0.41158537\n",
      " 0.33146067 0.         0.1196319  0.06451613 0.22689076 0.12915129\n",
      " 0.25344353 0.2614841  0.39255014 0.         0.         0.01759531\n",
      " 0.16611296 0.06162465 0.37003058 0.44300518 0.         0.10335196\n",
      " 0.23548387 0.12600536 0.41543027 0.46075949 0.         0.15189873\n",
      " 0.00323625 0.12987013 0.14245014 0.         0.24545455 0.05172414\n",
      " 0.44099379 0.         0.178125   0.09883721 0.         0.12455516\n",
      " 0.        ]\n",
      "< (DKL-<DKL>)^2 > = 1.49765327024\n"
     ]
    }
   ],
   "source": [
    "print(open('/Users/Rob/work/foxi_train/foxioutput/foxiplots_data_summary.txt', 'r').read())"
   ]
  },
  {
   "cell_type": "markdown",
   "metadata": {},
   "source": [
    "One thing to avoid in these results is if the quoted expected Kullback-Leibler divergence `<DKL>` is of roughly the same value as the natural log of the number of points in the posterior chains - which in this example is $\\ln (10^3) \\simeq 6.9$. More chain points must be used for larger values since otherwise the value of `<DKL>` is only a lower bound. \n",
    "\n",
    "A nice feature, if one sets `TeX_output = True` in `rerun_foxi` above, is the output of a fully-formatted $\\LaTeX$ table incorporating of all of these results. This can be found in the following file"
   ]
  },
  {
   "cell_type": "code",
   "execution_count": 13,
   "metadata": {
    "scrolled": true
   },
   "outputs": [
    {
     "name": "stdout",
     "output_type": "stream",
     "text": [
      "\\begin{table}\n",
      "\\centering\n",
      "\\begin{tabular}{|c|c|c|c|c|c|}\n",
      "\\cline{2-6}\n",
      "\\multicolumn{1}{c}{\\cellcolor{red!55}} & \\multicolumn{5}{|c|}{Data Name}  \\\\      \\hline\n",
      "\\backslashbox{${\\cal M}_\\beta$ - ${\\cal M}_\\gamma$}{$\\langle  U\\rangle$}  & $\\langle \\vert \\ln {\\rm B}_{\\beta \\gamma}\\vert \\rangle$ & $\\langle \\vert \\ln {\\rm B}_{\\beta \\gamma} \\vert \\rangle_{{}_{\\rm ML}}$ & $\\mathscr{D}_{\\beta \\gamma}$ & $\\mathscr{D}_{\\beta \\gamma}\\vert_{{}_{\\rm ML}}$ & $r_{{}_\\mathrm{ML}}$ \\\\     \\hline\\hline\n",
      "${\\cal M}_0$ - ${\\cal M}_0$ & $0.0^{+0.0}_{-0.0}$ & $0.0^{+0.0}_{-0.0}$ & 0.0 & 0.0 & 0.77  \\\\      \\hline\n",
      "${\\cal M}_1$ - ${\\cal M}_0$ & 7.38 $\\pm$ 6.68 & 4.61 $\\pm$ 3.17 & 0.54 & 0.39 & 0.64  \\\\      \\hline\n",
      "${\\cal M}_2$ - ${\\cal M}_0$ & 4.53 $\\pm$ 3.67 & 3.42 $\\pm$ 2.27 & 0.36 & 0.22 & 0.68  \\\\      \\hline\n",
      "${\\cal M}_3$ - ${\\cal M}_0$ & 2.06 $\\pm$ 2.02 & 1.35 $\\pm$ 0.98 & 0.07 & 0.0 & 0.71  \\\\      \\hline\n",
      "${\\cal M}_4$ - ${\\cal M}_0$ & 2.91 $\\pm$ 2.75 & 2.09 $\\pm$ 1.6 & 0.17 & 0.07 & 0.69  \\\\      \\hline\n",
      "${\\cal M}_5$ - ${\\cal M}_0$ & 2.59 $\\pm$ 2.0 & 1.63 $\\pm$ 1.11 & 0.12 & 0.0 & 0.68  \\\\      \\hline\n",
      "${\\cal M}_6$ - ${\\cal M}_0$ & 3.68 $\\pm$ 3.02 & 2.58 $\\pm$ 1.78 & 0.28 & 0.12 & 0.73  \\\\      \\hline\n",
      "${\\cal M}_7$ - ${\\cal M}_0$ & 2.7 $\\pm$ 2.02 & 1.84 $\\pm$ 1.25 & 0.12 & 0.01 & 0.67  \\\\      \\hline\n",
      "${\\cal M}_8$ - ${\\cal M}_0$ & 5.5 $\\pm$ 4.88 & 3.92 $\\pm$ 2.87 & 0.42 & 0.31 & 0.7  \\\\      \\hline\n",
      "${\\cal M}_9$ - ${\\cal M}_0$ & 6.55 $\\pm$ 5.39 & 4.88 $\\pm$ 3.43 & 0.51 & 0.41 & 0.63  \\\\      \\hline\n",
      "${\\cal M}_1$ - ${\\cal M}_1$ & $0.0^{+0.0}_{-0.0}$ & $0.0^{+0.0}_{-0.0}$ & 0.0 & 0.0 & 0.75  \\\\      \\hline\n",
      "${\\cal M}_2$ - ${\\cal M}_1$ & 9.53 $\\pm$ 8.47 & 6.83 $\\pm$ 4.69 & 0.65 & 0.59 & 0.6  \\\\      \\hline\n",
      "${\\cal M}_3$ - ${\\cal M}_1$ & 7.32 $\\pm$ 6.97 & 4.42 $\\pm$ 3.05 & 0.52 & 0.37 & 0.63  \\\\      \\hline\n",
      "${\\cal M}_4$ - ${\\cal M}_1$ & 8.05 $\\pm$ 7.7 & 5.28 $\\pm$ 3.78 & 0.57 & 0.47 & 0.61  \\\\      \\hline\n",
      "${\\cal M}_5$ - ${\\cal M}_1$ & 5.47 $\\pm$ 5.07 & 2.96 $\\pm$ 2.03 & 0.41 & 0.16 & 0.64  \\\\      \\hline\n",
      "${\\cal M}_6$ - ${\\cal M}_1$ & 8.18 $\\pm$ 6.83 & 5.8 $\\pm$ 3.78 & 0.61 & 0.53 & 0.66  \\\\      \\hline\n",
      "${\\cal M}_7$ - ${\\cal M}_1$ & 5.88 $\\pm$ 5.42 & 3.35 $\\pm$ 2.23 & 0.44 & 0.22 & 0.63  \\\\      \\hline\n",
      "${\\cal M}_8$ - ${\\cal M}_1$ & 6.63 $\\pm$ 5.34 & 4.59 $\\pm$ 3.01 & 0.53 & 0.41 & 0.67  \\\\      \\hline\n",
      "${\\cal M}_9$ - ${\\cal M}_1$ & 5.81 $\\pm$ 4.83 & 4.01 $\\pm$ 2.68 & 0.47 & 0.33 & 0.64  \\\\      \\hline\n",
      "${\\cal M}_2$ - ${\\cal M}_2$ & $0.0^{+0.0}_{-0.0}$ & $0.0^{+0.0}_{-0.0}$ & 0.0 & 0.0 & 0.79  \\\\      \\hline\n",
      "${\\cal M}_3$ - ${\\cal M}_2$ & 3.96 $\\pm$ 3.29 & 2.85 $\\pm$ 1.9 & 0.28 & 0.12 & 0.67  \\\\      \\hline\n",
      "${\\cal M}_4$ - ${\\cal M}_2$ & 3.4 $\\pm$ 2.92 & 2.35 $\\pm$ 1.6 & 0.23 & 0.06 & 0.69  \\\\      \\hline\n",
      "${\\cal M}_5$ - ${\\cal M}_2$ & 5.16 $\\pm$ 4.1 & 3.49 $\\pm$ 2.12 & 0.43 & 0.23 & 0.64  \\\\      \\hline\n",
      "${\\cal M}_6$ - ${\\cal M}_2$ & 3.39 $\\pm$ 2.85 & 2.68 $\\pm$ 1.91 & 0.23 & 0.13 & 0.73  \\\\      \\hline\n",
      "${\\cal M}_7$ - ${\\cal M}_2$ & 5.18 $\\pm$ 4.13 & 3.61 $\\pm$ 2.21 & 0.42 & 0.25 & 0.64  \\\\      \\hline\n",
      "${\\cal M}_8$ - ${\\cal M}_2$ & 5.54 $\\pm$ 4.97 & 3.7 $\\pm$ 2.54 & 0.41 & 0.26 & 0.72  \\\\      \\hline\n",
      "${\\cal M}_9$ - ${\\cal M}_2$ & 6.72 $\\pm$ 5.79 & 4.68 $\\pm$ 2.92 & 0.51 & 0.39 & 0.65  \\\\      \\hline\n",
      "${\\cal M}_3$ - ${\\cal M}_3$ & $0.0^{+0.0}_{-0.0}$ & $0.0^{+0.0}_{-0.0}$ & 0.0 & 0.0 & 0.75  \\\\      \\hline\n",
      "${\\cal M}_4$ - ${\\cal M}_3$ & 1.17 $\\pm$ 1.0 & 0.73 $\\pm$ 0.52 & 0.01 & 0.0 & 0.72  \\\\      \\hline\n",
      "${\\cal M}_5$ - ${\\cal M}_3$ & 3.2 $\\pm$ 2.64 & 1.97 $\\pm$ 1.36 & 0.2 & 0.02 & 0.66  \\\\      \\hline\n",
      "${\\cal M}_6$ - ${\\cal M}_3$ & 4.07 $\\pm$ 3.33 & 2.97 $\\pm$ 2.04 & 0.3 & 0.17 & 0.7  \\\\      \\hline\n",
      "${\\cal M}_7$ - ${\\cal M}_3$ & 3.41 $\\pm$ 2.78 & 2.29 $\\pm$ 1.54 & 0.23 & 0.06 & 0.64  \\\\      \\hline\n",
      "${\\cal M}_8$ - ${\\cal M}_3$ & 6.22 $\\pm$ 5.54 & 4.41 $\\pm$ 3.21 & 0.47 & 0.37 & 0.67  \\\\      \\hline\n",
      "${\\cal M}_9$ - ${\\cal M}_3$ & 7.0 $\\pm$ 5.97 & 5.06 $\\pm$ 3.49 & 0.54 & 0.44 & 0.61  \\\\      \\hline\n",
      "${\\cal M}_4$ - ${\\cal M}_4$ & $0.0^{+0.0}_{-0.0}$ & $0.0^{+0.0}_{-0.0}$ & 0.0 & 0.0 & 0.75  \\\\      \\hline\n",
      "${\\cal M}_5$ - ${\\cal M}_4$ & 4.0 $\\pm$ 3.39 & 2.64 $\\pm$ 1.87 & 0.29 & 0.1 & 0.64  \\\\      \\hline\n",
      "${\\cal M}_6$ - ${\\cal M}_4$ & 4.46 $\\pm$ 3.58 & 3.33 $\\pm$ 2.32 & 0.35 & 0.24 & 0.69  \\\\      \\hline\n",
      "${\\cal M}_7$ - ${\\cal M}_4$ & 4.05 $\\pm$ 3.43 & 2.78 $\\pm$ 1.95 & 0.3 & 0.13 & 0.63  \\\\      \\hline\n",
      "${\\cal M}_8$ - ${\\cal M}_4$ & 6.74 $\\pm$ 5.91 & 4.9 $\\pm$ 3.49 & 0.5 & 0.42 & 0.66  \\\\      \\hline\n",
      "${\\cal M}_9$ - ${\\cal M}_4$ & 7.34 $\\pm$ 6.29 & 5.25 $\\pm$ 3.63 & 0.56 & 0.46 & 0.6  \\\\      \\hline\n",
      "${\\cal M}_5$ - ${\\cal M}_5$ & $0.0^{+0.0}_{-0.0}$ & $0.0^{+0.0}_{-0.0}$ & 0.0 & 0.0 & 0.72  \\\\      \\hline\n",
      "${\\cal M}_6$ - ${\\cal M}_5$ & 4.24 $\\pm$ 3.06 & 2.98 $\\pm$ 1.91 & 0.34 & 0.15 & 0.68  \\\\      \\hline\n",
      "${\\cal M}_7$ - ${\\cal M}_5$ & 0.89 $\\pm$ 0.77 & 0.62 $\\pm$ 0.52 & 0.0 & 0.0 & 0.69  \\\\      \\hline\n",
      "${\\cal M}_8$ - ${\\cal M}_5$ & 4.19 $\\pm$ 3.63 & 2.69 $\\pm$ 1.82 & 0.31 & 0.13 & 0.69  \\\\      \\hline\n",
      "${\\cal M}_9$ - ${\\cal M}_5$ & 4.49 $\\pm$ 3.82 & 2.84 $\\pm$ 2.01 & 0.34 & 0.14 & 0.65  \\\\      \\hline\n",
      "${\\cal M}_6$ - ${\\cal M}_6$ & $0.0^{+0.0}_{-0.0}$ & $0.0^{+0.0}_{-0.0}$ & 0.0 & 0.0 & 0.82  \\\\      \\hline\n",
      "${\\cal M}_7$ - ${\\cal M}_6$ & 4.6 $\\pm$ 3.46 & 3.53 $\\pm$ 2.3 & 0.38 & 0.25 & 0.67  \\\\      \\hline\n",
      "${\\cal M}_8$ - ${\\cal M}_6$ & 3.81 $\\pm$ 3.22 & 2.19 $\\pm$ 1.52 & 0.28 & 0.05 & 0.77  \\\\      \\hline\n",
      "${\\cal M}_9$ - ${\\cal M}_6$ & 6.25 $\\pm$ 4.81 & 4.98 $\\pm$ 3.4 & 0.51 & 0.44 & 0.68  \\\\      \\hline\n",
      "${\\cal M}_7$ - ${\\cal M}_7$ & $0.0^{+0.0}_{-0.0}$ & $0.0^{+0.0}_{-0.0}$ & 0.0 & 0.0 & 0.71  \\\\      \\hline\n",
      "${\\cal M}_8$ - ${\\cal M}_7$ & 4.57 $\\pm$ 3.8 & 2.97 $\\pm$ 1.99 & 0.36 & 0.18 & 0.68  \\\\      \\hline\n",
      "${\\cal M}_9$ - ${\\cal M}_7$ & 4.32 $\\pm$ 3.81 & 2.51 $\\pm$ 1.82 & 0.33 & 0.1 & 0.66  \\\\      \\hline\n",
      "${\\cal M}_8$ - ${\\cal M}_8$ & $0.0^{+0.0}_{-0.0}$ & $0.0^{+0.0}_{-0.0}$ & 0.0 & 0.0 & 0.82  \\\\      \\hline\n",
      "${\\cal M}_9$ - ${\\cal M}_8$ & 3.19 $\\pm$ 2.49 & 2.54 $\\pm$ 1.87 & 0.21 & 0.12 & 0.72  \\\\      \\hline\n",
      "${\\cal M}_9$ - ${\\cal M}_9$ & $0.0^{+0.0}_{-0.0}$ & $0.0^{+0.0}_{-0.0}$ & 0.0 & 0.0 & 0.76  \\\\      \\hline\n",
      "\\end{tabular}\n",
      "\\caption{Blah blah blah table...}\n",
      "\\end{table}\n",
      "\n"
     ]
    }
   ],
   "source": [
    "print(open('/Users/Rob/work/foxi_train/foxioutput/foxiplots_data_summary_TeX.txt', 'r').read())"
   ]
  },
  {
   "cell_type": "markdown",
   "metadata": {},
   "source": [
    "Another useful tool provided by **foxi** is to generate plots illustrating the numerical convergence (or lack thereof) of the calculated expected utilities."
   ]
  },
  {
   "cell_type": "code",
   "execution_count": 57,
   "metadata": {},
   "outputs": [],
   "source": [
    "# Simply specify the number of bins in which to re-calculate the expected utilty with more samples. \n",
    "number_of_bins = 50\n",
    "\n",
    "# We have already specified the other inputs here so let's simply generate the plots!\n",
    "foxi_instance.plot_convergence(foxiplot_file_name,number_of_bins,number_of_foxiplot_samples_to_read_in,post_chains_column_types)"
   ]
  },
  {
   "cell_type": "markdown",
   "metadata": {
    "slideshow": {
     "slide_type": "-"
    }
   },
   "source": [
    "The output can be found in `/foxiplots/foxiplot_convergence.pdf`.\n",
    "\n",
    "### Computing analytic expected utility estimates with foxi\n",
    "\n",
    "In the regime where the number of samples from the current posterior is large enough (i.e. such that the expected Kullback-Leibler divergence is less than $\\ln (\\#_{\\rm samples})$) and the prior volume of each model is small enough to be effectively described as a single point in parameter space (in the present example this is modelled with `Rm` being small), the expected utilities `<DKL>` and `<|lnB|>` (with their standard deviations) can be compared with analytic estimates of the same quantities. These formulae rely on knowledge of the Fisher estimate for the current posterior and are built into **foxi**. One can obtain them through using the following command"
   ]
  },
  {
   "cell_type": "code",
   "execution_count": 9,
   "metadata": {
    "scrolled": true
   },
   "outputs": [
    {
     "name": "stdout",
     "output_type": "stream",
     "text": [
      "<DKL> estimate: 2.762575144483158 + O(F^{-2}) terms\n",
      "< (DKL-<DKL>)^2 > estimate: 0.02101516769267535 + O(F^{-2}) terms\n",
      "Sum_i <|lnB|>_i estimate: 134.53482885528643 + O(F^{-2}) terms\n",
      "Sum_i < (|lnB|_i - <|lnB|>_i)^2 > estimate: 1506.3802557637337 + O(F^{-2}) terms\n",
      "<|lnB|>_0 estimate: 0.0 + O(F^{-2}) terms\n",
      "< (|lnB|_0 - <|lnB|>_0)^2 > estimate: 0.0 + O(F^{-2}) terms\n",
      "<|lnB|>_1 estimate: 3.1239658805690027 + O(F^{-2}) terms\n",
      "< (|lnB|_1 - <|lnB|>_1)^2 > estimate: 44.04984336154991 + O(F^{-2}) terms\n",
      "<|lnB|>_2 estimate: 3.8431447938308496 + O(F^{-2}) terms\n",
      "< (|lnB|_2 - <|lnB|>_2)^2 > estimate: 68.11811239895438 + O(F^{-2}) terms\n",
      "<|lnB|>_3 estimate: 2.2405212598833746 + O(F^{-2}) terms\n",
      "< (|lnB|_3 - <|lnB|>_3)^2 > estimate: 25.819711192310216 + O(F^{-2}) terms\n",
      "<|lnB|>_4 estimate: 2.5470245112644996 + O(F^{-2}) terms\n",
      "< (|lnB|_4 - <|lnB|>_4)^2 > estimate: 42.93170291931262 + O(F^{-2}) terms\n",
      "<|lnB|>_5 estimate: 3.565848233592489 + O(F^{-2}) terms\n",
      "< (|lnB|_5 - <|lnB|>_5)^2 > estimate: 77.12064679678143 + O(F^{-2}) terms\n",
      "<|lnB|>_6 estimate: 2.3364329221761677 + O(F^{-2}) terms\n",
      "< (|lnB|_6 - <|lnB|>_6)^2 > estimate: 40.04485592525259 + O(F^{-2}) terms\n",
      "<|lnB|>_7 estimate: 3.2564674019294637 + O(F^{-2}) terms\n",
      "< (|lnB|_7 - <|lnB|>_7)^2 > estimate: 51.35413161708449 + O(F^{-2}) terms\n",
      "<|lnB|>_8 estimate: 2.6007022940894213 + O(F^{-2}) terms\n",
      "< (|lnB|_8 - <|lnB|>_8)^2 > estimate: 37.25517308176819 + O(F^{-2}) terms\n",
      "<|lnB|>_9 estimate: 3.388151191850567 + O(F^{-2}) terms\n",
      "< (|lnB|_9 - <|lnB|>_9)^2 > estimate: 21.8883001624537 + O(F^{-2}) terms\n",
      "<|lnB|>_10 estimate: 0.0 + O(F^{-2}) terms\n",
      "< (|lnB|_10 - <|lnB|>_10)^2 > estimate: 0.0 + O(F^{-2}) terms\n",
      "<|lnB|>_11 estimate: 4.153318993876621 + O(F^{-2}) terms\n",
      "< (|lnB|_11 - <|lnB|>_11)^2 > estimate: 32.010042691804074 + O(F^{-2}) terms\n",
      "<|lnB|>_12 estimate: 2.2887610246133665 + O(F^{-2}) terms\n",
      "< (|lnB|_12 - <|lnB|>_12)^2 > estimate: 26.42404514963405 + O(F^{-2}) terms\n",
      "<|lnB|>_13 estimate: 2.6621585085256365 + O(F^{-2}) terms\n",
      "< (|lnB|_13 - <|lnB|>_13)^2 > estimate: 28.205820644898072 + O(F^{-2}) terms\n",
      "<|lnB|>_14 estimate: 3.9982899132644776 + O(F^{-2}) terms\n",
      "< (|lnB|_14 - <|lnB|>_14)^2 > estimate: 27.882430303593864 + O(F^{-2}) terms\n",
      "<|lnB|>_15 estimate: 3.886655743219095 + O(F^{-2}) terms\n",
      "< (|lnB|_15 - <|lnB|>_15)^2 > estimate: 44.33670877322288 + O(F^{-2}) terms\n",
      "<|lnB|>_16 estimate: 1.3101323678075127 + O(F^{-2}) terms\n",
      "< (|lnB|_16 - <|lnB|>_16)^2 > estimate: 9.915025436505282 + O(F^{-2}) terms\n",
      "<|lnB|>_17 estimate: 1.9580767171276392 + O(F^{-2}) terms\n",
      "< (|lnB|_17 - <|lnB|>_17)^2 > estimate: 12.2893870195226 + O(F^{-2}) terms\n",
      "<|lnB|>_18 estimate: 1.9313056491211595 + O(F^{-2}) terms\n",
      "< (|lnB|_18 - <|lnB|>_18)^2 > estimate: 15.948941055250039 + O(F^{-2}) terms\n",
      "<|lnB|>_19 estimate: 0.0 + O(F^{-2}) terms\n",
      "< (|lnB|_19 - <|lnB|>_19)^2 > estimate: 0.0 + O(F^{-2}) terms\n",
      "<|lnB|>_20 estimate: 3.620169317609373 + O(F^{-2}) terms\n",
      "< (|lnB|_20 - <|lnB|>_20)^2 > estimate: 20.83545968097762 + O(F^{-2}) terms\n",
      "<|lnB|>_21 estimate: 3.9883449201986347 + O(F^{-2}) terms\n",
      "< (|lnB|_21 - <|lnB|>_21)^2 > estimate: 51.09990335366619 + O(F^{-2}) terms\n",
      "<|lnB|>_22 estimate: 1.8422922761994784 + O(F^{-2}) terms\n",
      "< (|lnB|_22 - <|lnB|>_22)^2 > estimate: 31.30916650396268 + O(F^{-2}) terms\n",
      "<|lnB|>_23 estimate: 3.465814191789346 + O(F^{-2}) terms\n",
      "< (|lnB|_23 - <|lnB|>_23)^2 > estimate: 43.6930010317883 + O(F^{-2}) terms\n",
      "<|lnB|>_24 estimate: 3.48970734828495 + O(F^{-2}) terms\n",
      "< (|lnB|_24 - <|lnB|>_24)^2 > estimate: 16.6853276507204 + O(F^{-2}) terms\n",
      "<|lnB|>_25 estimate: 3.4999595252364193 + O(F^{-2}) terms\n",
      "< (|lnB|_25 - <|lnB|>_25)^2 > estimate: 40.01366208622401 + O(F^{-2}) terms\n",
      "<|lnB|>_26 estimate: 4.48313590833023 + O(F^{-2}) terms\n",
      "< (|lnB|_26 - <|lnB|>_26)^2 > estimate: 16.430140354534583 + O(F^{-2}) terms\n",
      "<|lnB|>_27 estimate: 0.0 + O(F^{-2}) terms\n",
      "< (|lnB|_27 - <|lnB|>_27)^2 > estimate: 0.0 + O(F^{-2}) terms\n",
      "<|lnB|>_28 estimate: 2.4836027386148527 + O(F^{-2}) terms\n",
      "< (|lnB|_28 - <|lnB|>_28)^2 > estimate: 29.194117381467812 + O(F^{-2}) terms\n",
      "<|lnB|>_29 estimate: 4.021293948496754 + O(F^{-2}) terms\n",
      "< (|lnB|_29 - <|lnB|>_29)^2 > estimate: 42.0209852792013 + O(F^{-2}) terms\n",
      "<|lnB|>_30 estimate: 2.067580483310108 + O(F^{-2}) terms\n",
      "< (|lnB|_30 - <|lnB|>_30)^2 > estimate: 22.096329950421698 + O(F^{-2}) terms\n",
      "<|lnB|>_31 estimate: 2.0985315099338324 + O(F^{-2}) terms\n",
      "< (|lnB|_31 - <|lnB|>_31)^2 > estimate: 26.5675328865829 + O(F^{-2}) terms\n",
      "<|lnB|>_32 estimate: 2.285522238534567 + O(F^{-2}) terms\n",
      "< (|lnB|_32 - <|lnB|>_32)^2 > estimate: 24.881714691755295 + O(F^{-2}) terms\n",
      "<|lnB|>_33 estimate: 1.445306687728721 + O(F^{-2}) terms\n",
      "< (|lnB|_33 - <|lnB|>_33)^2 > estimate: 6.11866830553831 + O(F^{-2}) terms\n",
      "<|lnB|>_34 estimate: 0.0 + O(F^{-2}) terms\n",
      "< (|lnB|_34 - <|lnB|>_34)^2 > estimate: 0.0 + O(F^{-2}) terms\n",
      "<|lnB|>_35 estimate: 2.8227367898742672 + O(F^{-2}) terms\n",
      "< (|lnB|_35 - <|lnB|>_35)^2 > estimate: 14.28856940480738 + O(F^{-2}) terms\n",
      "<|lnB|>_36 estimate: 1.5592969457166914 + O(F^{-2}) terms\n",
      "< (|lnB|_36 - <|lnB|>_36)^2 > estimate: 7.181956427120715 + O(F^{-2}) terms\n",
      "<|lnB|>_37 estimate: 2.7768111473634014 + O(F^{-2}) terms\n",
      "< (|lnB|_37 - <|lnB|>_37)^2 > estimate: 55.720593167209714 + O(F^{-2}) terms\n",
      "<|lnB|>_38 estimate: 2.466754435691438 + O(F^{-2}) terms\n",
      "< (|lnB|_38 - <|lnB|>_38)^2 > estimate: 58.60005341483473 + O(F^{-2}) terms\n",
      "<|lnB|>_39 estimate: 3.3962495502582346 + O(F^{-2}) terms\n",
      "< (|lnB|_39 - <|lnB|>_39)^2 > estimate: 27.627285697470732 + O(F^{-2}) terms\n",
      "<|lnB|>_40 estimate: 0.0 + O(F^{-2}) terms\n",
      "< (|lnB|_40 - <|lnB|>_40)^2 > estimate: 0.0 + O(F^{-2}) terms\n",
      "<|lnB|>_41 estimate: 2.647620668866443 + O(F^{-2}) terms\n",
      "< (|lnB|_41 - <|lnB|>_41)^2 > estimate: 20.018595127637507 + O(F^{-2}) terms\n",
      "<|lnB|>_42 estimate: 4.248929598270482 + O(F^{-2}) terms\n",
      "< (|lnB|_42 - <|lnB|>_42)^2 > estimate: 43.74377941933088 + O(F^{-2}) terms\n",
      "<|lnB|>_43 estimate: 4.61988135199124 + O(F^{-2}) terms\n",
      "< (|lnB|_43 - <|lnB|>_43)^2 > estimate: 68.58946220860332 + O(F^{-2}) terms\n",
      "<|lnB|>_44 estimate: 4.931877698588856 + O(F^{-2}) terms\n",
      "< (|lnB|_44 - <|lnB|>_44)^2 > estimate: 31.02068457018305 + O(F^{-2}) terms\n",
      "<|lnB|>_45 estimate: 0.0 + O(F^{-2}) terms\n",
      "< (|lnB|_45 - <|lnB|>_45)^2 > estimate: 0.0 + O(F^{-2}) terms\n",
      "<|lnB|>_46 estimate: 3.6964262285395604 + O(F^{-2}) terms\n",
      "< (|lnB|_46 - <|lnB|>_46)^2 > estimate: 62.76107993726053 + O(F^{-2}) terms\n",
      "<|lnB|>_47 estimate: 3.7148317879670127 + O(F^{-2}) terms\n",
      "< (|lnB|_47 - <|lnB|>_47)^2 > estimate: 71.53636719170507 + O(F^{-2}) terms\n",
      "<|lnB|>_48 estimate: 3.0659444810582412 + O(F^{-2}) terms\n",
      "< (|lnB|_48 - <|lnB|>_48)^2 > estimate: 23.01284530682021 + O(F^{-2}) terms\n",
      "<|lnB|>_49 estimate: 0.0 + O(F^{-2}) terms\n",
      "< (|lnB|_49 - <|lnB|>_49)^2 > estimate: 0.0 + O(F^{-2}) terms\n",
      "<|lnB|>_50 estimate: 1.5287235977766624 + O(F^{-2}) terms\n",
      "< (|lnB|_50 - <|lnB|>_50)^2 > estimate: 10.638017866229646 + O(F^{-2}) terms\n",
      "<|lnB|>_51 estimate: 2.0426472445186117 + O(F^{-2}) terms\n",
      "< (|lnB|_51 - <|lnB|>_51)^2 > estimate: 13.97281117332899 + O(F^{-2}) terms\n",
      "<|lnB|>_52 estimate: 0.0 + O(F^{-2}) terms\n",
      "< (|lnB|_52 - <|lnB|>_52)^2 > estimate: 0.0 + O(F^{-2}) terms\n",
      "<|lnB|>_53 estimate: 3.1338788277966803 + O(F^{-2}) terms\n",
      "< (|lnB|_53 - <|lnB|>_53)^2 > estimate: 21.127267164452043 + O(F^{-2}) terms\n",
      "<|lnB|>_54 estimate: 0.0 + O(F^{-2}) terms\n",
      "< (|lnB|_54 - <|lnB|>_54)^2 > estimate: 0.0 + O(F^{-2}) terms\n"
     ]
    }
   ],
   "source": [
    "stepsizes = [np.sqrt(mock_posterior_covariance_matrix[0,0]),\n",
    "             np.sqrt(mock_posterior_covariance_matrix[1,1]), # Set the stepsizes in calculating the \n",
    "             np.sqrt(mock_posterior_covariance_matrix[2,2]), # variation of the forecast Fisher matrix\n",
    "             np.sqrt(mock_posterior_covariance_matrix[3,3]), # with respect to the fiducial points.\n",
    "             np.sqrt(mock_posterior_covariance_matrix[4,4])]\n",
    "\n",
    "# The rest of the inputs have been determined in our example previously\n",
    "foxi_instance.analytic_estimates(mock_prior_positions,mock_posterior_best_fit,mock_posterior_fisher_matrix,stepsizes)"
   ]
  },
  {
   "cell_type": "markdown",
   "metadata": {},
   "source": [
    "The agreement between the analytic estimates and the output from **foxi** can typically be improved by reducing `Rm` and increasing the number of points drawn from the current posterior, though the estimates have limited accuracy depending on the the order that the expansion has in terms of the posterior Fisher estimate. In the current version, **foxi** supports up to an ${\\cal O}({\\cal F}^{-2})$ estimate. The comparison between these separate results can be a useful guide when obtaining forecasts from **foxi** to the required accuracy, and due to their speed in computation, they can make up for a slow Fisher matrix computation or an optimisation problem where many runs of **foxi** are needed."
   ]
  },
  {
   "cell_type": "code",
   "execution_count": null,
   "metadata": {},
   "outputs": [],
   "source": []
  }
 ],
 "metadata": {
  "kernelspec": {
   "display_name": "Python 2",
   "language": "python",
   "name": "python2"
  },
  "language_info": {
   "codemirror_mode": {
    "name": "ipython",
    "version": 2
   },
   "file_extension": ".py",
   "mimetype": "text/x-python",
   "name": "python",
   "nbconvert_exporter": "python",
   "pygments_lexer": "ipython2",
   "version": "2.7.15"
  }
 },
 "nbformat": 4,
 "nbformat_minor": 2
}
